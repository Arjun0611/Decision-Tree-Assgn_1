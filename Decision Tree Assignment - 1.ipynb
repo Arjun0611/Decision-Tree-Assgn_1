{
 "cells": [
  {
   "cell_type": "code",
   "execution_count": 1,
   "id": "b4746830-5359-43a3-a1da-d6c86aa735b1",
   "metadata": {},
   "outputs": [],
   "source": [
    "#Q1.\n",
    "\n",
    "# Decision Tree Basics: Binary tree structure for decision-making.\n",
    "# Splitting Criteria: Nodes split based on features to maximize information gain or Gini impurity or Entropy.\n",
    "# Leaf Nodes: Terminal nodes representing final class predictions.\n",
    "# Decision Rules: Each path from the root to a leaf forms a decision rule.\n",
    "# Predictions: Input makes it way across the tree, following decision rules to reach a leaf and obtain the predicted class.\n",
    "# Training Process: Algorithm recursively splits nodes during training to form the optimal decision tree.\n",
    "# Pruning (Optional): Post-pruning or pre-prunning may occur to prevent overfitting.\n",
    "# Interpretability: Offers a clear, interpretable structure for decision-making."
   ]
  },
  {
   "cell_type": "code",
   "execution_count": 2,
   "id": "45ebaca9-288b-4419-a5d0-c1ece5dd7d44",
   "metadata": {},
   "outputs": [],
   "source": [
    "#Q2.\n",
    "\n",
    "# Entropy or Gini Impurity: Measure impurity in a dataset.\n",
    "# Splitting Criteria: Choose feature and threshold to split data, aiming to reduce entropy or impurity.\n",
    "# Information Gain: Quantify the improvement in purity after the split.\n",
    "# Decision Rule: Optimal split results in the highest information gain.\n",
    "# Recursive Splitting: Continue splitting nodes until a stopping criterion is met.\n",
    "# Leaf Nodes: Assign class labels to terminal nodes based on majority voting.\n",
    "# Prediction: Input makes a way through the tree, following decision rules to reach a leaf and predict the majority class."
   ]
  },
  {
   "cell_type": "code",
   "execution_count": 1,
   "id": "192fb47c-2d5a-4b63-9914-56dc89e06e5d",
   "metadata": {},
   "outputs": [],
   "source": [
    "#Q3.\n",
    "\n",
    "# Dataset Splitting: Begin with a dataset containing binary class labels.\n",
    "# Feature Selection: Choose the feature that optimally splits the data based on criteria like information gain or Gini impurity.\n",
    "# Recursive Process: Repeat the splitting process on subsets until reaching leaf nodes.\n",
    "# Leaf Node Assignment: Assign majority class label to each leaf node.\n",
    "# Decision Rules: Form decision rules from the root to each leaf based on feature thresholds.\n",
    "# Prediction: For new data, traverse the tree following decision rules to predict the class at a leaf node."
   ]
  },
  {
   "cell_type": "code",
   "execution_count": 2,
   "id": "55da9f1d-5db2-4594-9be5-03f3f0f4d16d",
   "metadata": {},
   "outputs": [],
   "source": [
    "#Q4.\n",
    "\n",
    "# Binary Space Partitioning: Decision tree creates a binary partition of the feature space.\n",
    "# Axis-Aligned Splits: Splits are perpendicular to feature axes, dividing the space into regions.\n",
    "# Decision Boundaries: Boundaries are parallel to coordinate axes, resulting in rectangular decision regions.\n",
    "# Leaf Nodes as Regions: Each leaf node corresponds to a region in the feature space.\n",
    "# Prediction Process: Input's position in the space determines the leaf node, and thus, the predicted class.\n",
    "# Geometric Intuition: Decision tree essentially forms a set of hyperplanes to classify data points based on their position in the feature space."
   ]
  },
  {
   "cell_type": "code",
   "execution_count": 3,
   "id": "9151981c-1ecc-437a-96e7-1663b03b27aa",
   "metadata": {},
   "outputs": [],
   "source": [
    "# Q5.\n",
    "# Confusion Matrix: Matrix showing the counts of true positive (TP), true negative (TN), false positive (FP), and false negative (FN) predictions.\n",
    "# True Positive: Instances correctly predicted as positive.\n",
    "# True Negative: Instances correctly predicted as negative.\n",
    "# False Positive: Instances incorrectly predicted as positive.\n",
    "# False Negative: Instances incorrectly predicted as negative.\n",
    "# Precision: Proportion of true positives among predicted positives (TP / (TP + FP)).\n",
    "# Recall (Sensitivity): Proportion of true positives among actual positives (TP / (TP + FN)).\n",
    "# Accuracy: Proportion of correct predictions among all predictions ((TP + TN) / Total).\n",
    "# F1 Score: Harmonic mean of precision and recall (2 * (Precision * Recall) / (Precision + Recall)).\n",
    "# Use in Evaluation: Provides a detailed view of a classifier's performance, especially in imbalanced datasets.\n",
    "# Metrics derived from the confusion matrix help assess trade-offs between precision and recall."
   ]
  },
  {
   "cell_type": "code",
   "execution_count": 5,
   "id": "29b81d06-e31c-4f7e-9e3c-07bbe1257681",
   "metadata": {},
   "outputs": [
    {
     "name": "stdout",
     "output_type": "stream",
     "text": [
      "Confusion Matrix:\n",
      "[[2 1]\n",
      " [2 5]]\n",
      "Precision: 0.833\n",
      "Recall: 0.714\n",
      "F1 Score: 0.769\n"
     ]
    }
   ],
   "source": [
    "# Q6.\n",
    "\n",
    "from sklearn.metrics import confusion_matrix, precision_score, recall_score, f1_score\n",
    "\n",
    "# Example data\n",
    "y_true = [0, 1, 1, 0, 1, 1, 0, 0, 1, 1]\n",
    "y_pred = [1, 1, 1, 0, 1, 0, 0, 1, 1, 1]\n",
    "\n",
    "# Confusion matrix\n",
    "cm = confusion_matrix(y_pred, y_true)\n",
    "print(\"Confusion Matrix:\")\n",
    "print(cm)\n",
    "\n",
    "# Precision, Recall, F1 Score\n",
    "precision = precision_score(y_pred, y_true)\n",
    "recall = recall_score(y_pred, y_true)\n",
    "f1 = f1_score(y_pred, y_true)\n",
    "\n",
    "print(f\"Precision: {precision:.3f}\")\n",
    "print(f\"Recall: {recall:.3f}\")\n",
    "print(f\"F1 Score: {f1:.3f}\")"
   ]
  },
  {
   "cell_type": "code",
   "execution_count": 1,
   "id": "8660da58-4967-46d3-ba8c-e844e507f7d2",
   "metadata": {},
   "outputs": [],
   "source": [
    "#Q7.\n",
    "\n",
    "# Critical Decision: Metric choice profoundly influences the interpretation of model success.\n",
    "# Key Metrics: Accuracy, Precision, Recall, F1 Score, AUC-ROC are common.\n",
    "# Scenario Tailoring: Select metrics based on class balance, cost considerations, and application priorities.\n",
    "# Domain Alignment: Align metrics with project goals and specific domain requirements.\n",
    "# Holistic Evaluation: Assess models using multiple metrics for a comprehensive understanding.\n",
    "# Cross-Validation Role: Employ cross-validation to ensure robust metric evaluation.\n",
    "# Adapt to Changes: Dynamically adjust metrics based on evolving project needs."
   ]
  },
  {
   "cell_type": "code",
   "execution_count": 2,
   "id": "c918155f-5d2e-4cd0-aa66-7b452d87b670",
   "metadata": {},
   "outputs": [],
   "source": [
    "#Q8.\n",
    "\n",
    "# Scenario: Detecting fraudulent transactions in a banking system.\n",
    "# Importance of Precision:\n",
    "\n",
    "# Precision Definition: Proportion of predicted fraud cases that are actually fraudulent (True Positives / (True Positives + False Positives)).\n",
    "# Why Precision Matters:\n",
    "#    Consequences of False Positives: Flagging legitimate transactions as fraud can inconvenience and frustrate customers.\n",
    "#    Financial Impact: Investigating false positives incurs costs for the bank.\n",
    "#    Customer Trust: Frequent false alarms can erode customer trust in the system.\n",
    "# Objective: Minimize the number of legitimate transactions mistakenly flagged as fraudulent.\n",
    "# In this scenario, precision is crucial because it directly addresses the potential negative consequences of falsely identifying non-fraudulent transactions as fraudulent, emphasizing the need to avoid unnecessary disruptions and maintain customer trust."
   ]
  },
  {
   "cell_type": "code",
   "execution_count": 3,
   "id": "5669ceee-14a4-47bf-b142-c3ab4bacb9d7",
   "metadata": {},
   "outputs": [],
   "source": [
    "#Q9.\n",
    "\n",
    "# Scenario: Diagnosing a rare medical condition where early detection is critical for effective treatment.\n",
    "# Importance of Recall:\n",
    "\n",
    "# Recall Definition: Proportion of actual positive cases correctly identified by the model (True Positives / (True Positives + False Negatives)).\n",
    "#    Why Recall Matters:\n",
    "#    Early Detection is Crucial: Missing a positive case (False Negative) could have severe consequences, as early intervention is essential for effective treatment.\n",
    "#    Prioritizing Sensitivity: Ensuring that a high proportion of true positive cases are detected, even at the cost of more false positives.\n",
    "# Objective: Maximize the identification of actual positive cases, minimizing the risk of overlooking patients who need immediate attention.\n",
    "\n",
    "# In this context, recall is prioritized to minimize the chances of failing to detect positive cases, which is critical for a rare medical condition where early intervention significantly impacts patient outcomes."
   ]
  },
  {
   "cell_type": "code",
   "execution_count": 4,
   "id": "dbed407e-ac7c-4a22-9000-8e003950f34f",
   "metadata": {},
   "outputs": [],
   "source": [
    "# End"
   ]
  },
  {
   "cell_type": "code",
   "execution_count": 5,
   "id": "57de31d4-0e15-49b1-9d1e-615731ca8685",
   "metadata": {},
   "outputs": [],
   "source": [
    "# End"
   ]
  },
  {
   "cell_type": "code",
   "execution_count": 6,
   "id": "b39f9d86-7455-4785-a915-bb34a463fe4e",
   "metadata": {},
   "outputs": [],
   "source": [
    "# End"
   ]
  },
  {
   "cell_type": "code",
   "execution_count": null,
   "id": "bfd4ad2f-a841-4c7c-a117-43305f063cdb",
   "metadata": {},
   "outputs": [],
   "source": []
  }
 ],
 "metadata": {
  "kernelspec": {
   "display_name": "Python 3 (ipykernel)",
   "language": "python",
   "name": "python3"
  },
  "language_info": {
   "codemirror_mode": {
    "name": "ipython",
    "version": 3
   },
   "file_extension": ".py",
   "mimetype": "text/x-python",
   "name": "python",
   "nbconvert_exporter": "python",
   "pygments_lexer": "ipython3",
   "version": "3.10.8"
  }
 },
 "nbformat": 4,
 "nbformat_minor": 5
}
